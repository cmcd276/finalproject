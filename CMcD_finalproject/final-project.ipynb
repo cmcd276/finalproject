{
 "cells": [
  {
   "cell_type": "raw",
   "metadata": {},
   "source": []
  },
  {
   "cell_type": "code",
   "execution_count": null,
   "metadata": {
    "scrolled": true
   },
   "outputs": [
    {
     "name": "stdout",
     "output_type": "stream",
     "text": [
      "Enter the name of a file directory: \n"
     ]
    }
   ],
   "source": [
    "import xlsxwriter\n",
    "import os \n",
    "\n",
    "def greet_user():\n",
    "    print(\"Enter the name of a file directory: \")\n",
    "    some_directory = input() #storing typed-in prompt as a variable\n",
    "    print(\"Thank you. One moment.\")\n",
    "    return some_directory #passing off whatever answer the previous lines have given\n",
    "\n",
    "def initial_read(basepath):\n",
    "    #basepath = some_directory\n",
    "    allthepaths = []\n",
    "    for entry in os.listdir(basepath):\n",
    "        otherpath = os.path.join(basepath, entry)\n",
    "        if os.path.isdir(otherpath):\n",
    "            initial_read(otherpath)\n",
    "        else:\n",
    "            print(otherpath)\n",
    "        allthepaths.append(otherpath)\n",
    "    return allthepaths\n",
    "        \n",
    "             \n",
    "\n",
    "\n",
    "        \n",
    "returned_directory = greet_user() #telling the computer that it's time to do this task and storing the output of that task into a variable\n",
    "\n",
    "roughlist = initial_read(returned_directory)\n",
    "\n",
    "print(roughlist)\n",
    "\n"
   ]
  },
  {
   "cell_type": "code",
   "execution_count": null,
   "metadata": {},
   "outputs": [],
   "source": [
    "name = returned_directory + '\\inventorylist.xlsx'\n",
    "\n",
    "print(name)\n",
    "\n",
    "\n",
    "workbook = xlsxwriter.Workbook(name)\n",
    "worksheet = workbook.add_worksheet()\n",
    "row = 0\n",
    "col = 0\n",
    "\n",
    "for filename in roughlist:\n",
    "    split_filename = filename.split(\"\\\\\")\n",
    "    print(split_filename)\n",
    "    for piece in split_filename:\n",
    "        worksheet.write(row, col, piece)\n",
    "        col+=1\n",
    "    row +=1\n",
    "    col =0\n",
    "workbook.close()"
   ]
  },
  {
   "cell_type": "code",
   "execution_count": null,
   "metadata": {},
   "outputs": [],
   "source": []
  }
 ],
 "metadata": {
  "kernelspec": {
   "display_name": "Python 3",
   "language": "python",
   "name": "python3"
  },
  "language_info": {
   "codemirror_mode": {
    "name": "ipython",
    "version": 3
   },
   "file_extension": ".py",
   "mimetype": "text/x-python",
   "name": "python",
   "nbconvert_exporter": "python",
   "pygments_lexer": "ipython3",
   "version": "3.7.3"
  }
 },
 "nbformat": 4,
 "nbformat_minor": 2
}
