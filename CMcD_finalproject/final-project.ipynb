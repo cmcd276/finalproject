{
 "cells": [
  {
   "cell_type": "code",
   "execution_count": 22,
   "metadata": {
    "scrolled": true
   },
   "outputs": [
    {
     "name": "stdout",
     "output_type": "stream",
     "text": [
      "Enter the name of a file directory: \n",
      "C:\\Users\\clair\\OneDrive\\Documents\\phd\n",
      "Thank you. One moment.\n",
      "C:\\Users\\clair\\OneDrive\\Documents\\phd\\Collier_ProcessTracing.pdf\n",
      "C:\\Users\\clair\\OneDrive\\Documents\\phd\\gritty\\Boudry_ReplicateAfterReading.pdf\n",
      "C:\\Users\\clair\\OneDrive\\Documents\\phd\\gritty\\grittyintro.docx\n",
      "C:\\Users\\clair\\OneDrive\\Documents\\phd\\gritty\\Mina_SocialChangeMemes.pdf\n",
      "C:\\Users\\clair\\OneDrive\\Documents\\phd\\gritty\\SeiffertBrockmanEtAl_MemesAsGames.pdf\n",
      "C:\\Users\\clair\\OneDrive\\Documents\\phd\\gritty\\Shifman_CulturalLogicPhotoMemes.pdf\n",
      "C:\\Users\\clair\\OneDrive\\Documents\\phd\\gritty\\Shifman_MemesDigitalWorld.pdf\n",
      "C:\\Users\\clair\\OneDrive\\Documents\\phd\\notebook_07312019.docx\n"
     ]
    }
   ],
   "source": [
    "import xlsxwriter\n",
    "import os \n",
    "\n",
    "def greet_user():\n",
    "    print(\"Enter the name of a file directory: \")\n",
    "    some_directory = input()\n",
    "    print(\"Thank you. One moment.\")\n",
    "    return some_directory\n",
    "\n",
    "def initial_read(some_directory):\n",
    "    basepath = some_directory\n",
    "    for entry in os.listdir(basepath):\n",
    "        otherpath = os.path.join(basepath, entry)\n",
    "        if os.path.isdir(otherpath):\n",
    "            initial_read(otherpath)\n",
    "        else:\n",
    "            print(otherpath)\n",
    "             \n",
    "            \n",
    "        \n",
    "some_directory = greet_user()\n",
    "initial_read(some_directory)\n",
    "    \n",
    "#workbook = xlsxwriter.Workbook('inventorylist.xlsx')\n",
    "#worksheet = workbook.add_worksheet()"
   ]
  },
  {
   "cell_type": "code",
   "execution_count": null,
   "metadata": {},
   "outputs": [],
   "source": [
    "greet_user"
   ]
  },
  {
   "cell_type": "code",
   "execution_count": null,
   "metadata": {},
   "outputs": [],
   "source": []
  }
 ],
 "metadata": {
  "kernelspec": {
   "display_name": "Python 3",
   "language": "python",
   "name": "python3"
  },
  "language_info": {
   "codemirror_mode": {
    "name": "ipython",
    "version": 3
   },
   "file_extension": ".py",
   "mimetype": "text/x-python",
   "name": "python",
   "nbconvert_exporter": "python",
   "pygments_lexer": "ipython3",
   "version": "3.7.3"
  }
 },
 "nbformat": 4,
 "nbformat_minor": 2
}
